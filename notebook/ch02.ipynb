{
 "cells": [
  {
   "cell_type": "markdown",
   "metadata": {},
   "source": [
    "# Chapter 2: Accessing Text Corpora and Lexical Resources\n"
   ]
  },
  {
   "cell_type": "code",
   "execution_count": 24,
   "metadata": {
    "collapsed": false
   },
   "outputs": [],
   "source": [
    "import nltk\n",
    "from nltk.corpus import gutenberg, brown, reuters\n",
    "from nltk.text import Text"
   ]
  },
  {
   "cell_type": "code",
   "execution_count": null,
   "metadata": {
    "collapsed": false
   },
   "outputs": [],
   "source": [
    "#Obtain list of words \n",
    "print(gutenberg.words('austen-emma.txt'))\n",
    "\n",
    "#Obtain list of sentences\n",
    "print(gutenberg.sents('austen-emma.txt'))"
   ]
  },
  {
   "cell_type": "markdown",
   "metadata": {},
   "source": [
    "## Analysis using Frequency Distribution\n"
   ]
  },
  {
   "cell_type": "code",
   "execution_count": 9,
   "metadata": {
    "collapsed": true
   },
   "outputs": [],
   "source": [
    "news_text = brown.words(categories='news')\n",
    "freqDist = nltk.FreqDist([w.lower() for w in news_text])\n",
    "\n",
    "#Obtain top 10 most frequent words in the text\n",
    "freqDist.plot(10)"
   ]
  },
  {
   "cell_type": "markdown",
   "metadata": {},
   "source": [
    "## Analysis using Conditional Frequency Distribution"
   ]
  },
  {
   "cell_type": "code",
   "execution_count": 17,
   "metadata": {
    "collapsed": false,
    "scrolled": true
   },
   "outputs": [
    {
     "name": "stdout",
     "output_type": "stream",
     "text": [
      "                 can could  may might \n",
      "           news   93   86   66   38 \n",
      "       religion   82   59   78   12 \n",
      "        hobbies  268   58  131   22 \n",
      "science_fiction   16   49    4   12 \n",
      "        romance   74  193   11   51 \n",
      "          humor   16   30    8    8 \n"
     ]
    }
   ],
   "source": [
    "cfd = nltk.ConditionalFreqDist((genre, word) for genre in brown.categories()\n",
    "                                             for word in brown.words(categories=genre))\n",
    "genres = ['news', 'religion', 'hobbies', 'science_fiction', 'romance', 'humor']\n",
    "modals = ['can', 'could', 'may', 'might']\n",
    "cfd.tabulate(conditions=genres, samples=modals)"
   ]
  },
  {
   "cell_type": "markdown",
   "metadata": {},
   "source": [
    "## Common functions on text"
   ]
  },
  {
   "cell_type": "code",
   "execution_count": 26,
   "metadata": {
    "collapsed": false
   },
   "outputs": [
    {
     "name": "stdout",
     "output_type": "stream",
     "text": [
      "Displaying 25 of 5201 matches:\n",
      "disposition , seemed to unite some of the best blessings of existence ; and had\n",
      "ad lived nearly twenty - one years in the world with very little to distress or\n",
      "ttle to distress or vex her . She was the youngest of the two daughters of a mo\n",
      " or vex her . She was the youngest of the two daughters of a most affectionate \n",
      " of Emma . Between _them_ it was more the intimacy of sisters . Even before Mis\n",
      "before Miss Taylor had ceased to hold the nominal office of governess , the mil\n",
      "old the nominal office of governess , the mildness of her temper had hardly all\n",
      "wed her to impose any restraint ; and the shadow of authority being now long pa\n",
      "t , but directed chiefly by her own . The real evils , indeed , of Emma ' s sit\n",
      ", indeed , of Emma ' s situation were the power of having rather too much her o\n",
      "ttle too well of herself ; these were the disadvantages which threatened alloy \n",
      "atened alloy to her many enjoyments . The danger , however , was at present so \n",
      " a gentle sorrow -- but not at all in the shape of any disagreeable consciousne\n",
      "which first brought grief . It was on the wedding - day of this beloved friend \n",
      "mournful thought of any continuance . The wedding over , and the bride - people\n",
      " continuance . The wedding over , and the bride - people gone , her father and \n",
      " sit and think of what she had lost . The event had every promise of happiness \n",
      "ip she had always wished and promoted the match ; but it was a black morning ' \n",
      "as a black morning ' s work for her . The want of Miss Taylor would be felt eve\n",
      "y . She recalled her past kindness -- the kindness , the affection of sixteen y\n",
      "d her past kindness -- the kindness , the affection of sixteen years -- how she\n",
      " health -- and how nursed her through the various illnesses of childhood . A la\n",
      "ebt of gratitude was owing here ; but the intercourse of the last seven years ,\n",
      "s owing here ; but the intercourse of the last seven years , the equal footing \n",
      "intercourse of the last seven years , the equal footing and perfect unreserve w\n"
     ]
    }
   ],
   "source": [
    "#Obtain categories of a text file \n",
    "reuters.categories('training/9865')\n",
    "\n",
    "#Search for every occurence of 'the' in a text\n",
    "Text(gutenberg.words('austen-emma.txt')).concordance('the')"
   ]
  },
  {
   "cell_type": "code",
   "execution_count": null,
   "metadata": {
    "collapsed": true
   },
   "outputs": [],
   "source": []
  }
 ],
 "metadata": {
  "kernelspec": {
   "display_name": "Python 3",
   "language": "python",
   "name": "python3"
  },
  "language_info": {
   "codemirror_mode": {
    "name": "ipython",
    "version": 3
   },
   "file_extension": ".py",
   "mimetype": "text/x-python",
   "name": "python",
   "nbconvert_exporter": "python",
   "pygments_lexer": "ipython3",
   "version": "3.4.3"
  }
 },
 "nbformat": 4,
 "nbformat_minor": 0
}
